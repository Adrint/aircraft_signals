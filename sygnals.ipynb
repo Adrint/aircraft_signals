{
 "cells": [
  {
   "cell_type": "code",
   "execution_count": null,
   "id": "a507944f-516b-40ad-ba9b-fdf643c9623f",
   "metadata": {},
   "outputs": [],
   "source": [
    "import pymongo\n",
    "\n",
    "username = \"student\"\n",
    "password = \"student\"\n",
    "host = \"10.20.66.7:27017\"\n",
    "database_name = \"fsig-raw\"\n",
    "\n",
    "url = f\"mongodb://{username}:{password}@{host}/{database_name}\"\n",
    "\n",
    "try:\n",
    "    # Utwórz klienta MongoDB\n",
    "    myclient = pymongo.MongoClient(url)\n",
    "\n",
    "    # Uzyskanie dostępu do bazy danych\n",
    "    mydb = myclient[database_name]\n",
    "\n",
    "    # Sprawdzenie dostępności bazy danych\n",
    "    dblist = myclient.list_database_names()\n",
    "    if database_name in dblist:\n",
    "        print(\"Connected to MongoDB successfully.\")\n",
    "        print(\"Available databases:\", dblist)\n",
    "    else:\n",
    "        print(\"Database not found.\")\n",
    "\n",
    "except Exception as e:\n",
    "    print(\"An error occurred:\", e)\n"
   ]
  },
  {
   "cell_type": "code",
   "execution_count": null,
   "id": "8109d193-0523-4d93-81d2-0da3c40dab8c",
   "metadata": {},
   "outputs": [],
   "source": []
  },
  {
   "cell_type": "code",
   "execution_count": null,
   "id": "0f7b5366-bf51-4687-a5cb-d8e359f040d1",
   "metadata": {},
   "outputs": [],
   "source": []
  }
 ],
 "metadata": {
  "kernelspec": {
   "display_name": "Python 3 (ipykernel)",
   "language": "python",
   "name": "python3"
  },
  "language_info": {
   "codemirror_mode": {
    "name": "ipython",
    "version": 3
   },
   "file_extension": ".py",
   "mimetype": "text/x-python",
   "name": "python",
   "nbconvert_exporter": "python",
   "pygments_lexer": "ipython3",
   "version": "3.11.8"
  }
 },
 "nbformat": 4,
 "nbformat_minor": 5
}
