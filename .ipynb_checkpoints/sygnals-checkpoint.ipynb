{
 "cells": [
  {
   "cell_type": "code",
   "execution_count": null,
   "id": "a507944f-516b-40ad-ba9b-fdf643c9623f",
   "metadata": {},
   "outputs": [],
   "source": [
    "import pymongo\n",
    "\n",
    "print(\"Hello World\")\n",
    "# -*- coding: utf-8 -*-\n",
    "username = \"student\"\n",
    "password = \"student\"\n",
    "host = \"10.20.66.7:27017\"\n",
    "database_name = \"fsig-raw\"\n",
    "\n",
    "# Utwórz adres URL z uwierzytelnieniem\n",
    "url = f\"mongodb://{username}:{password}@{host}/{database_name}\"\n",
    "\n",
    "# Utwórz klienta MongoDB\n",
    "myclient = pymongo.MongoClient(url)\n",
    "\n",
    "# Uzyskaj dostęp do bazy danych\n",
    "mydb = myclient[database_name]\n",
    "\n",
    "# Możesz teraz używać obiektu mydb do operacji na bazie danych\n",
    "\n",
    "\n",
    "\n",
    "dblist = myclient.list_database_names()\n",
    "if \"fsig-raw\" in dblist:\n",
    "        print(\"The database exists.\")\n",
    "\n",
    "print(myclient.list_database_names())"
   ]
  }
 ],
 "metadata": {
  "kernelspec": {
   "display_name": "Python 3 (ipykernel)",
   "language": "python",
   "name": "python3"
  },
  "language_info": {
   "codemirror_mode": {
    "name": "ipython",
    "version": 3
   },
   "file_extension": ".py",
   "mimetype": "text/x-python",
   "name": "python",
   "nbconvert_exporter": "python",
   "pygments_lexer": "ipython3",
   "version": "3.11.1"
  }
 },
 "nbformat": 4,
 "nbformat_minor": 5
}
