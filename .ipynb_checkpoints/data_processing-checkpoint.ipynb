{
 "cells": [
  {
   "cell_type": "code",
   "execution_count": 107,
   "id": "036cf260-eba0-4c78-a9d4-2db4b827a9a1",
   "metadata": {},
   "outputs": [],
   "source": [
    "import json\n",
    "import os\n",
    "from geopy.distance import great_circle\n",
    "from shapely.geometry import LineString\n",
    "from datetime import datetime\n"
   ]
  },
  {
   "cell_type": "code",
   "execution_count": 108,
   "id": "b23a011d-a924-4485-8eaf-a6a2162a616a",
   "metadata": {},
   "outputs": [
    {
     "name": "stdout",
     "output_type": "stream",
     "text": [
      "Dane zostały zapisane do pliku: D:\\aircraft_signals 2\\dane\\json\\output\\output_AAL639.json\n",
      "Dane zostały zapisane do pliku: D:\\aircraft_signals 2\\dane\\json\\output\\output_AAL1203.json\n",
      "Dane zostały zapisane do pliku: D:\\aircraft_signals 2\\dane\\json\\output\\output_AAL1632.json\n",
      "Dane zostały zapisane do pliku: D:\\aircraft_signals 2\\dane\\json\\output\\output_AAL2254.json\n",
      "Dane zostały zapisane do pliku: D:\\aircraft_signals 2\\dane\\json\\output\\output_CBJ480.json\n",
      "Dane zostały zapisane do pliku: D:\\aircraft_signals 2\\dane\\json\\output\\output_DAL446.json\n",
      "Dane zostały zapisane do pliku: D:\\aircraft_signals 2\\dane\\json\\output\\output_DAL1155.json\n",
      "Dane zostały zapisane do pliku: D:\\aircraft_signals 2\\dane\\json\\output\\output_JBU1197.json\n",
      "Dane zostały zapisane do pliku: D:\\aircraft_signals 2\\dane\\json\\output\\output_KAL124.json\n",
      "Dane zostały zapisane do pliku: D:\\aircraft_signals 2\\dane\\json\\output\\output_NKS957.json\n",
      "Dane zostały zapisane do pliku: D:\\aircraft_signals 2\\dane\\json\\output\\output_QFA79.json\n",
      "Dane zostały zapisane do pliku: D:\\aircraft_signals 2\\dane\\json\\output\\output_SWA622.json\n",
      "Dane zostały zapisane do pliku: D:\\aircraft_signals 2\\dane\\json\\output\\output_THY1.json\n",
      "Dane zostały zapisane do pliku: D:\\aircraft_signals 2\\dane\\json\\output\\output_UAL595.json\n",
      "Dane zostały zapisane do pliku: D:\\aircraft_signals 2\\dane\\json\\output\\output_VOZ214.json\n"
     ]
    }
   ],
   "source": [
    "# Ścieżka do folderu z plikami JSON\n",
    "input_folder_path = r'D:\\aircraft_signals 2\\dane\\json\\data'\n",
    "output_folder_path = r'D:\\aircraft_signals 2\\dane\\json\\output'  # Nowa ścieżka do folderu wyjściowego\n",
    "\n",
    "# Lista nazw plików do przetworzenia\n",
    "files_to_process = ['AAL639.json','AAL1203.json','AAL1632.json', 'AAL2254.json', 'CBJ480.json', 'DAL446.json', 'DAL1155.json','JBU1197.json','KAL124.json','NKS957.json', 'QFA79.json', 'SWA622.json', 'THY1.json', 'UAL595.json', 'VOZ214.json']\n",
    "\n",
    "# Utwórz folder wyjściowy, jeśli nie istnieje\n",
    "os.makedirs(output_folder_path, exist_ok=True)\n",
    "\n",
    "# Przetwarzanie każdego pliku\n",
    "for filename in files_to_process:\n",
    "    file_path = os.path.join(input_folder_path, filename)\n",
    "    output_filename = f\"output_{filename[:-5]}.json\"  # Nazwa pliku wynikowego\n",
    "    \n",
    "    # Lista do przechowywania punktów\n",
    "    waypoints = []\n",
    "\n",
    "    # Wczytaj dane z pliku JSON\n",
    "    with open(file_path, 'r') as file:\n",
    "        for line in file:\n",
    "            try:\n",
    "                # Usuń niepotrzebne znaki nowej linii lub inne zbędne znaki\n",
    "                cleaned_line = line.strip()\n",
    "\n",
    "                # Parsuj linię jako obiekt JSON\n",
    "                obj = json.loads(cleaned_line)\n",
    "\n",
    "                # Pobierz potrzebne informacje\n",
    "                ident = obj['ident']\n",
    "                reg = obj['reg']\n",
    "                lat = float(obj['lat'])  # Konwertuj na float\n",
    "                lon = float(obj['lon'])  # Konwertuj na float\n",
    "                \n",
    "                # Sprawdź czy pole alt zawiera wartość\n",
    "                if 'alt' in obj and obj['alt']:\n",
    "                    alt = int(obj['alt'])  # Konwertuj na int\n",
    "                else:\n",
    "                    alt = -1  # Domyślna wartość, gdy alt jest puste lub nie istnieje\n",
    "                \n",
    "                clock = obj['clock']\n",
    "\n",
    "                # Dodaj punkt do listy waypoints\n",
    "                waypoints.append({\"lat\": lat, \"lon\": lon, \"alt\": alt, \"clock\": clock})\n",
    "\n",
    "            except json.JSONDecodeError as e:\n",
    "                print(f\"Błąd podczas parsowania JSON w pliku {filename}, linia: {cleaned_line[:50]}...\")\n",
    "                print(f\"Komunikat błędu: {str(e)}\")\n",
    "                continue\n",
    "\n",
    "    # Utwórz docelowy obiekt JSON\n",
    "    output_data = {\n",
    "        \"ident\": ident,\n",
    "        \"reg\": reg,\n",
    "        \"waypoints\": waypoints\n",
    "    }\n",
    "\n",
    "    # Konwertuj output_data do formatu JSON\n",
    "    output_json = json.dumps(output_data, indent=2)\n",
    "\n",
    "    # Zapisz wynikowy JSON do pliku w folderze wyjściowym\n",
    "    output_file = os.path.join(output_folder_path, output_filename)\n",
    "    with open(output_file, 'w') as outfile:\n",
    "        outfile.write(output_json)\n",
    "\n",
    "    print(f\"Dane zostały zapisane do pliku: {output_file}\")\n"
   ]
  },
  {
   "cell_type": "code",
   "execution_count": 109,
   "id": "1fe2cb4e-e4e7-495a-b7db-b6376bf3b65b",
   "metadata": {},
   "outputs": [
    {
     "name": "stdout",
     "output_type": "stream",
     "text": [
      "Dane zostały zapisane do pliku: D:\\aircraft_signals 2\\dane\\json\\output\\merged_output.json\n"
     ]
    }
   ],
   "source": [
    "folder_path = r'D:\\aircraft_signals 2\\dane\\json\\output'\n",
    "output_folder_path2 = r'D:\\aircraft_signals 2\\dane\\json\\output'  # Nowa ścieżka do folderu wyjściowego\n",
    "# Lista nazw plików do przetworzenia\n",
    "files_to_process = ['output_AAL639.json','output_AAL1203.json','output_AAL1632.json','output_AAL2254.json','output_CBJ480.json','output_DAL446.json','output_DAL1155.json','output_JBU1197.json','output_KAL124.json','output_NKS957.json','output_QFA79.json','output_SWA622.json','output_THY1.json','output_UAL595.json','output_VOZ214.json']\n",
    "\n",
    "# Lista do przechowywania danych wynikowych\n",
    "merged_data = []\n",
    "\n",
    "# Przetwarzanie każdego pliku\n",
    "for filename in files_to_process:\n",
    "    file_path = os.path.join(folder_path, filename)\n",
    "    \n",
    "    # Wczytaj dane z pliku JSON\n",
    "    with open(file_path, 'r') as file:\n",
    "        try:\n",
    "            # Parsuj dane z pliku JSON\n",
    "            data = json.load(file)\n",
    "            \n",
    "            # Dodaj dane do listy merged_data\n",
    "            merged_data.append(data)\n",
    "        \n",
    "        except json.JSONDecodeError as e:\n",
    "            print(f\"Błąd podczas parsowania JSON w pliku {filename}: {str(e)}\")\n",
    "            continue\n",
    "\n",
    "# Utwórz ścieżkę dla pliku wynikowego zbiorczego\n",
    "output_path = os.path.join(output_folder_path2 , 'merged_output.json')\n",
    "\n",
    "# Zapisz merged_data do pliku JSON\n",
    "with open(output_path, 'w') as outfile:\n",
    "    json.dump(merged_data, outfile, indent=2)\n",
    "\n",
    "print(f\"Dane zostały zapisane do pliku: {output_path}\")\n"
   ]
  }
 ],
 "metadata": {
  "kernelspec": {
   "display_name": "Python 3 (ipykernel)",
   "language": "python",
   "name": "python3"
  },
  "language_info": {
   "codemirror_mode": {
    "name": "ipython",
    "version": 3
   },
   "file_extension": ".py",
   "mimetype": "text/x-python",
   "name": "python",
   "nbconvert_exporter": "python",
   "pygments_lexer": "ipython3",
   "version": "3.11.8"
  }
 },
 "nbformat": 4,
 "nbformat_minor": 5
}
